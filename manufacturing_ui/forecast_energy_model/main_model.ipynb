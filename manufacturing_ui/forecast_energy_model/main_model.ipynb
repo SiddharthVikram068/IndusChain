{
 "cells": [
  {
   "cell_type": "code",
   "execution_count": 1,
   "metadata": {},
   "outputs": [],
   "source": [
    "import pandas as pd\n",
    "import numpy as np\n",
    "import matplotlib.pyplot as plt\n",
    "import seaborn as sns\n",
    "from sklearn.ensemble import RandomForestRegressor\n",
    "from sklearn.linear_model import LinearRegression\n",
    "from sklearn.metrics import mean_squared_error\n",
    "import warnings\n",
    "\n",
    "warnings.filterwarnings('ignore')\n"
   ]
  },
  {
   "cell_type": "code",
   "execution_count": 2,
   "metadata": {},
   "outputs": [],
   "source": [
    "file_path = \"./processed_train_data.csv\"\n",
    "x_values = 10\n",
    "data = pd.read_csv(file_path, index_col=0)\n",
    "train_data = None\n",
    "test_data = None\n",
    "model = None\n",
    "FEATURES = ['dayofyear', 'hour', 'dayofweek', 'quarter', 'month', 'year']\n",
    "TARGET = 'energy'\n",
    "split_ratio = 0.8\n",
    "split_date_index = int(len(data) * split_ratio)\n",
    "split_date = data.index[split_date_index]"
   ]
  },
  {
   "cell_type": "code",
   "execution_count": 3,
   "metadata": {},
   "outputs": [],
   "source": [
    "def check_nan_and_replace_with_avg(series,x_values):\n",
    "        \"\"\"Replace NaN values in a Series with the average of the last x valid values.\"\"\"\n",
    "        series = series.copy()\n",
    "        for i in range(len(series)):\n",
    "            if np.isnan(series.iloc[i]):\n",
    "                valid_values = [series.iloc[i - j] for j in range(1, x_values + 1) if i - j >= 0 and not np.isnan(series.iloc[i - j])]\n",
    "                if valid_values:\n",
    "                    series.iloc[i] = np.mean(valid_values)\n",
    "        return series"
   ]
  },
  {
   "cell_type": "code",
   "execution_count": 4,
   "metadata": {},
   "outputs": [],
   "source": [
    "def load_and_preprocess_data(file_path,x_values):\n",
    "    \"\"\"Load the dataset and preprocess it.\"\"\"\n",
    "    data = pd.read_csv(file_path)\n",
    "    data['datetime'] = pd.to_datetime(data['datetime'])\n",
    "    data = data.set_index('datetime')\n",
    "\n",
    "    # Handle NaN values\n",
    "    data['energy'] = check_nan_and_replace_with_avg(data['energy'],x_values)\n",
    "\n",
    "    # Split the data into training and testing sets\n",
    "    split_ratio = 0.8\n",
    "    split_date_index = int(len(data) * split_ratio)\n",
    "    split_date = data.index[split_date_index]\n",
    "\n",
    "    print(\"NaN values handled. Data loaded successfully.\")\n",
    "    return data"
   ]
  },
  {
   "cell_type": "code",
   "execution_count": 5,
   "metadata": {},
   "outputs": [],
   "source": [
    "def create_features(df):\n",
    "        \"\"\"Create time-based and lag features from the DataFrame.\"\"\"\n",
    "        df = df.copy()\n",
    "        df['hour'] = df.index.hour\n",
    "        df['dayofweek'] = df.index.dayofweek\n",
    "        df['quarter'] = df.index.quarter\n",
    "        df['month'] = df.index.month\n",
    "        df['year'] = df.index.year\n",
    "        df['dayofyear'] = df.index.dayofyear\n",
    "\n",
    "        return df.dropna()  # Drop NaN values created by shifting"
   ]
  },
  {
   "cell_type": "code",
   "execution_count": 6,
   "metadata": {},
   "outputs": [],
   "source": [
    "\n",
    "def split_data(data,split_date):\n",
    "    \"\"\"Split the dataset into training and testing sets.\"\"\"\n",
    "    train_data = data.loc[data.index < split_date]\n",
    "    test_data = data.loc[data.index >= split_date]\n",
    "\n",
    "    # Create features for the training and testing data\n",
    "    train_data = create_features(train_data)\n",
    "    test_data = create_features(test_data)\n",
    "    print(\"Data split into train and test sets.\")\n",
    "    return train_data,test_data"
   ]
  },
  {
   "cell_type": "code",
   "execution_count": 7,
   "metadata": {},
   "outputs": [],
   "source": [
    "def calculate_trend_value(dt):\n",
    "    \"\"\"Calculate the trend value based on historical data up to the specified datetime.\"\"\"\n",
    "    historical_data = train_data[train_data.index <= pd.to_datetime(dt)]\n",
    "\n",
    "    # Ensure you have enough data points\n",
    "    if len(historical_data) < 2:\n",
    "        return 0.0  # Not enough data to calculate a trend\n",
    "\n",
    "    # Prepare data for linear regression\n",
    "    X = np.arange(len(historical_data)).reshape(-1, 1)  # Time as a feature\n",
    "    y = historical_data['energy'].values  # Historical energy values\n",
    "\n",
    "    # Fit linear regression model\n",
    "    model = LinearRegression()\n",
    "    model.fit(X, y)\n",
    "\n",
    "    # The slope of the line (the coefficient) represents the trend\n",
    "    trend_value = model.coef_[0]\n",
    "    return trend_value"
   ]
  },
  {
   "cell_type": "code",
   "execution_count": 8,
   "metadata": {},
   "outputs": [],
   "source": [
    "def predict_for_datetime(dt,model):\n",
    "    # Calculate the trend value based on historical data up to the specified datetime\n",
    "    trend_value = calculate_trend_value(dt)\n",
    "\n",
    "    # Create an empty DataFrame for the specific datetime\n",
    "    df = pd.DataFrame(index=[pd.to_datetime(dt)])\n",
    "\n",
    "    # Create time-based features for the DataFrame\n",
    "    df['hour'] = df.index.hour\n",
    "    df['dayofweek'] = df.index.dayofweek\n",
    "    df['quarter'] = df.index.quarter\n",
    "    df['month'] = df.index.month\n",
    "    df['year'] = df.index.year\n",
    "    df['dayofyear'] = df.index.dayofyear\n",
    "\n",
    "    # Predict using the trained model\n",
    "    prediction = model.predict(df[FEATURES])\n",
    "\n",
    "    # Add the calculated and scaled trend value to the prediction\n",
    "    final_prediction = prediction[0] + (trend_value)\n",
    "\n",
    "    print(f\"Predicted energy for {dt} with trend: {final_prediction}\")\n",
    "    return final_prediction"
   ]
  },
  {
   "cell_type": "code",
   "execution_count": 9,
   "metadata": {},
   "outputs": [],
   "source": [
    "def train_model():\n",
    "    \"\"\"Train the RandomForestRegressor model.\"\"\"\n",
    "    X_train = train_data[FEATURES]\n",
    "    y_train = train_data[TARGET]\n",
    "\n",
    "    model = RandomForestRegressor(n_estimators=200, max_depth=15, random_state=42)\n",
    "\n",
    "    model.fit(X_train, y_train)\n",
    "    print(\"Model trained.\")\n",
    "    return model,X_train,y_train"
   ]
  },
  {
   "cell_type": "code",
   "execution_count": 10,
   "metadata": {},
   "outputs": [],
   "source": [
    "def calculate_error_percentage(y_true, y_pred):\n",
    "    \"\"\"Calculate the mean error percentage between true and predicted values.\"\"\"\n",
    "    error_percentage = np.abs(y_true - y_pred) / y_true * 100\n",
    "    mean_error_percentage = np.mean(error_percentage)\n",
    "    print(f\"Mean Error Percentage: {mean_error_percentage:.2f}%\")\n",
    "    return mean_error_percentage\n",
    "\n",
    "def calculate_accuracy(y_true, y_pred):\n",
    "    \"\"\"Calculate the accuracy of the model based on predictions.\"\"\"\n",
    "    error_percentage = calculate_error_percentage(y_true, y_pred)\n",
    "    accuracy = 100 - error_percentage\n",
    "    print(f\"Model Accuracy: {accuracy:.2f}%\")\n",
    "    return accuracy\n",
    "\n",
    "def calculate_mean(values):\n",
    "    \"\"\"Calculate and return the mean of the given values.\"\"\"\n",
    "    mean_value = np.mean(values)\n",
    "    print(f\"Mean: {mean_value:.2f}\")\n",
    "    return mean_value\n",
    "\n",
    "def calculate_std(values):\n",
    "    \"\"\"Calculate and return the standard deviation of the given values.\"\"\"\n",
    "    std_value = np.std(values)\n",
    "    print(f\"Standard Deviation: {std_value:.2f}\")\n",
    "    return std_value"
   ]
  },
  {
   "cell_type": "code",
   "execution_count": 11,
   "metadata": {},
   "outputs": [],
   "source": [
    "file_path = './processed_train_data.csv'  # Specify your CSV file path\n"
   ]
  },
  {
   "cell_type": "code",
   "execution_count": 12,
   "metadata": {},
   "outputs": [],
   "source": [
    "energy_data = pd.read_csv(file_path)\n",
    "energy_data['datetime'] = pd.to_datetime(energy_data['datetime'])\n",
    "energy_data = energy_data.set_index('datetime')\n"
   ]
  },
  {
   "cell_type": "code",
   "execution_count": 13,
   "metadata": {},
   "outputs": [
    {
     "name": "stdout",
     "output_type": "stream",
     "text": [
      "NaN values handled. Data loaded successfully.\n",
      "Data split into train and test sets.\n",
      "Model trained.\n",
      "Data loaded, preprocessed, split, and model trained successfully.\n"
     ]
    }
   ],
   "source": [
    "# Load and preprocess the data\n",
    "data = load_and_preprocess_data(file_path,x_values)\n",
    "\n",
    "# Split the data into training and testing sets\n",
    "train_data,test_data = split_data(data,split_date)\n",
    "\n",
    "# Train the model\n",
    "model,X_train,y_train=train_model()\n",
    "\n",
    "print(\"Data loaded, preprocessed, split, and model trained successfully.\")"
   ]
  },
  {
   "cell_type": "code",
   "execution_count": 14,
   "metadata": {},
   "outputs": [
    {
     "name": "stdout",
     "output_type": "stream",
     "text": [
      "Predicted energy for 2018-03-01 12:00:00 with trend: 1833.9445607739854\n"
     ]
    }
   ],
   "source": [
    "# Example prediction\n",
    "prediction_datetime = '2018-03-01 12:00:00'\n",
    "prediction = predict_for_datetime(prediction_datetime,model)"
   ]
  },
  {
   "cell_type": "code",
   "execution_count": 15,
   "metadata": {},
   "outputs": [
    {
     "name": "stdout",
     "output_type": "stream",
     "text": [
      "Mean: 2002.16\n",
      "Standard Deviation: 349.29\n",
      "Mean: 1929.50\n",
      "Standard Deviation: 289.15\n",
      "Mean Error Percentage: 8.35%\n",
      "Mean Error Percentage: 8.35%\n",
      "Model Accuracy: 91.65%\n"
     ]
    },
    {
     "data": {
      "text/plain": [
       "91.64752515806303"
      ]
     },
     "execution_count": 15,
     "metadata": {},
     "output_type": "execute_result"
    }
   ],
   "source": [
    "# Make predictions on the test set\n",
    "X_test = test_data[FEATURES]\n",
    "y_test = test_data[TARGET]\n",
    "\n",
    "# Generate predictions\n",
    "y_pred = model.predict(X_test)\n",
    "# Calculate mean and standard deviation of actual and predicted values\n",
    "mean_actual = calculate_mean(y_test)\n",
    "std_actual = calculate_std(y_test)\n",
    "mean_predicted = calculate_mean(y_pred)\n",
    "std_predicted = calculate_std(y_pred)\n",
    "\n",
    "# Calculate and print error percentage and accuracy\n",
    "calculate_error_percentage(y_test, y_pred)\n",
    "calculate_accuracy(y_test, y_pred)"
   ]
  },
  {
   "cell_type": "code",
   "execution_count": 16,
   "metadata": {},
   "outputs": [
    {
     "name": "stdout",
     "output_type": "stream",
     "text": [
      "Model saved to model.joblib\n"
     ]
    }
   ],
   "source": [
    "import joblib\n",
    "\n",
    "# Save the model to a file\n",
    "model_filename = 'model.joblib'\n",
    "joblib.dump(model, model_filename, compress=8)\n",
    "print(f\"Model saved to {model_filename}\")"
   ]
  },
  {
   "cell_type": "code",
   "execution_count": null,
   "metadata": {},
   "outputs": [],
   "source": []
  }
 ],
 "metadata": {
  "kernelspec": {
   "display_name": "Python 3",
   "language": "python",
   "name": "python3"
  },
  "language_info": {
   "codemirror_mode": {
    "name": "ipython",
    "version": 3
   },
   "file_extension": ".py",
   "mimetype": "text/x-python",
   "name": "python",
   "nbconvert_exporter": "python",
   "pygments_lexer": "ipython3",
   "version": "3.12.7"
  }
 },
 "nbformat": 4,
 "nbformat_minor": 2
}
