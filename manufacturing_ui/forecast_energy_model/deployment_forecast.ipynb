{
 "cells": [
  {
   "cell_type": "code",
   "execution_count": 1,
   "metadata": {},
   "outputs": [
    {
     "name": "stdout",
     "output_type": "stream",
     "text": [
      "Defaulting to user installation because normal site-packages is not writeable\n",
      "Requirement already satisfied: joblib in c:\\users\\offic\\appdata\\roaming\\python\\python312\\site-packages (1.4.2)\n",
      "Defaulting to user installation because normal site-packages is not writeable\n",
      "Requirement already satisfied: modelbit in c:\\users\\offic\\appdata\\roaming\\python\\python312\\site-packages (0.41.17)\n",
      "Requirement already satisfied: pycryptodomex in c:\\users\\offic\\appdata\\roaming\\python\\python312\\site-packages (from modelbit) (3.21.0)\n",
      "Requirement already satisfied: pandas in c:\\users\\offic\\appdata\\roaming\\python\\python312\\site-packages (from modelbit) (2.2.2)\n",
      "Requirement already satisfied: tqdm in c:\\users\\offic\\appdata\\roaming\\python\\python312\\site-packages (from modelbit) (4.66.5)\n",
      "Requirement already satisfied: requests in c:\\users\\offic\\appdata\\roaming\\python\\python312\\site-packages (from modelbit) (2.32.3)\n",
      "Requirement already satisfied: types-requests in c:\\users\\offic\\appdata\\roaming\\python\\python312\\site-packages (from modelbit) (2.32.0.20240907)\n",
      "Requirement already satisfied: pyyaml in c:\\users\\offic\\appdata\\roaming\\python\\python312\\site-packages (from modelbit) (6.0.2)\n",
      "Requirement already satisfied: types-PyYAML in c:\\users\\offic\\appdata\\roaming\\python\\python312\\site-packages (from modelbit) (6.0.12.20240917)\n",
      "Requirement already satisfied: jinja2 in c:\\users\\offic\\appdata\\roaming\\python\\python312\\site-packages (from modelbit) (3.1.4)\n",
      "Requirement already satisfied: zstandard in c:\\users\\offic\\appdata\\roaming\\python\\python312\\site-packages (from modelbit) (0.23.0)\n",
      "Requirement already satisfied: appdirs in c:\\users\\offic\\appdata\\roaming\\python\\python312\\site-packages (from modelbit) (1.4.4)\n",
      "Requirement already satisfied: texttable in c:\\users\\offic\\appdata\\roaming\\python\\python312\\site-packages (from modelbit) (1.7.0)\n",
      "Requirement already satisfied: build in c:\\users\\offic\\appdata\\roaming\\python\\python312\\site-packages (from modelbit) (0.10.0)\n",
      "Requirement already satisfied: pkginfo in c:\\users\\offic\\appdata\\roaming\\python\\python312\\site-packages (from modelbit) (1.11.2)\n",
      "Requirement already satisfied: boto3>=1.23.0 in c:\\users\\offic\\appdata\\roaming\\python\\python312\\site-packages (from modelbit) (1.35.38)\n",
      "Requirement already satisfied: numpy<2 in c:\\users\\offic\\appdata\\roaming\\python\\python312\\site-packages (from modelbit) (1.26.4)\n",
      "Requirement already satisfied: importlib-metadata in c:\\users\\offic\\appdata\\roaming\\python\\python312\\site-packages (from modelbit) (8.5.0)\n",
      "Requirement already satisfied: urllib3>=1.21.1 in c:\\users\\offic\\appdata\\roaming\\python\\python312\\site-packages (from modelbit) (2.2.2)\n",
      "Requirement already satisfied: botocore<1.36.0,>=1.35.38 in c:\\users\\offic\\appdata\\roaming\\python\\python312\\site-packages (from boto3>=1.23.0->modelbit) (1.35.38)\n",
      "Requirement already satisfied: jmespath<2.0.0,>=0.7.1 in c:\\users\\offic\\appdata\\roaming\\python\\python312\\site-packages (from boto3>=1.23.0->modelbit) (1.0.1)\n",
      "Requirement already satisfied: s3transfer<0.11.0,>=0.10.0 in c:\\users\\offic\\appdata\\roaming\\python\\python312\\site-packages (from boto3>=1.23.0->modelbit) (0.10.3)\n",
      "Requirement already satisfied: packaging>=19.0 in c:\\users\\offic\\appdata\\roaming\\python\\python312\\site-packages (from build->modelbit) (24.1)\n",
      "Requirement already satisfied: pyproject_hooks in c:\\users\\offic\\appdata\\roaming\\python\\python312\\site-packages (from build->modelbit) (1.2.0)\n",
      "Requirement already satisfied: colorama in c:\\users\\offic\\appdata\\roaming\\python\\python312\\site-packages (from build->modelbit) (0.4.6)\n",
      "Requirement already satisfied: zipp>=3.20 in c:\\users\\offic\\appdata\\roaming\\python\\python312\\site-packages (from importlib-metadata->modelbit) (3.20.2)\n",
      "Requirement already satisfied: MarkupSafe>=2.0 in c:\\users\\offic\\appdata\\roaming\\python\\python312\\site-packages (from jinja2->modelbit) (2.1.5)\n",
      "Requirement already satisfied: python-dateutil>=2.8.2 in c:\\users\\offic\\appdata\\roaming\\python\\python312\\site-packages (from pandas->modelbit) (2.9.0.post0)\n",
      "Requirement already satisfied: pytz>=2020.1 in c:\\users\\offic\\appdata\\roaming\\python\\python312\\site-packages (from pandas->modelbit) (2024.1)\n",
      "Requirement already satisfied: tzdata>=2022.7 in c:\\users\\offic\\appdata\\roaming\\python\\python312\\site-packages (from pandas->modelbit) (2024.1)\n",
      "Requirement already satisfied: charset-normalizer<4,>=2 in c:\\users\\offic\\appdata\\roaming\\python\\python312\\site-packages (from requests->modelbit) (3.3.2)\n",
      "Requirement already satisfied: idna<4,>=2.5 in c:\\users\\offic\\appdata\\roaming\\python\\python312\\site-packages (from requests->modelbit) (3.8)\n",
      "Requirement already satisfied: certifi>=2017.4.17 in c:\\users\\offic\\appdata\\roaming\\python\\python312\\site-packages (from requests->modelbit) (2024.8.30)\n",
      "Requirement already satisfied: six>=1.5 in c:\\users\\offic\\appdata\\roaming\\python\\python312\\site-packages (from python-dateutil>=2.8.2->pandas->modelbit) (1.16.0)\n"
     ]
    }
   ],
   "source": [
    "!pip install joblib\n",
    "!pip install modelbit"
   ]
  },
  {
   "cell_type": "code",
   "execution_count": 2,
   "metadata": {},
   "outputs": [
    {
     "data": {
      "text/html": [
       "\n",
       "  <div style=\"margin: 0; padding: 5px; line-height: 1.75; font-size: 14px; vertical-align: baseline; list-style: none; font-family: Roboto, Arial, sans-serif; background: none;\">\n",
       "    <div style=\"margin: 0; padding: 0; line-height: 1.75; font-size: 14px; vertical-align: baseline; list-style: none; font-family: Roboto, Arial, sans-serif; background: none; font-weight: bold; color: #845B99;\">Please upgrade Modelbit</div>\n",
       "    <div style=\"margin: 0; padding: 0; line-height: 1.75; font-size: 14px; vertical-align: baseline; list-style: none; font-family: Roboto, Arial, sans-serif; background: none;\">Your Modelbit package appears out of date.</div>\n",
       "    <div style=\"margin: 0; padding: 0; line-height: 1.75; font-size: 14px; vertical-align: baseline; list-style: none; font-family: Roboto, Arial, sans-serif; background: none;\">\n",
       "      Please run <span style=\"margin: 0; padding: 3px; line-height: 1.75; font-size: 13px; vertical-align: baseline; list-style: none; font-family: monospace; background: none; font-weight: 400; background-color: rgba(209, 213, 219, 0.2);\">pip install --upgrade modelbit</span> to upgrade to the latest version.\n",
       "      (Installed: <span style=\"margin: 0; padding: 3px; line-height: 1.75; font-size: 13px; vertical-align: baseline; list-style: none; font-family: monospace; background: none; font-weight: 400; background-color: rgba(209, 213, 219, 0.2);\">0.41.17</span>.\n",
       "      Latest: <span style=\"margin: 0; padding: 3px; line-height: 1.75; font-size: 13px; vertical-align: baseline; list-style: none; font-family: monospace; background: none; font-weight: 400; background-color: rgba(209, 213, 219, 0.2);\">0.41.18</span>.)\n",
       "    </div>\n",
       "  </div>\n",
       "\n",
       "<div style=\"margin: 0; padding: 5px; line-height: 1.75; font-size: 14px; vertical-align: baseline; list-style: none; font-family: Roboto, Arial, sans-serif; background: none;\">\n",
       "  <div style=\"margin: 0; padding: 0; line-height: 1.75; font-size: 14px; vertical-align: baseline; list-style: none; font-family: Roboto, Arial, sans-serif; background: none;\">\n",
       "    You're <span style=\"margin: 0; padding: 0; line-height: 1.75; font-size: 14px; vertical-align: baseline; list-style: none; font-family: Roboto, Arial, sans-serif; background: none; color: #15803d; font-weight: bold;\">connected</span> to Modelbit as officetanishwork@gmail.com.\n",
       "    Workspace: <span style=\"margin: 0; padding: 0; line-height: 1.75; font-size: 14px; vertical-align: baseline; list-style: none; font-family: monospace; background: none; font-weight: bold; color: #845B99;\">tanishpathania</span>.\n",
       "    \n",
       "    Branch: <span style=\"margin: 0; padding: 0; line-height: 1.75; font-size: 14px; vertical-align: baseline; list-style: none; font-family: monospace; background: none; font-weight: bold; color: #845B99;\">main</span>\n",
       "\t</div>\n",
       "  \n",
       "\n",
       "\n",
       "\n",
       "\n",
       "\n",
       "\n",
       "</div>"
      ],
      "text/plain": [
       "<IPython.core.display.HTML object>"
      ]
     },
     "metadata": {},
     "output_type": "display_data"
    }
   ],
   "source": [
    "import modelbit\n",
    "mb = modelbit.login()"
   ]
  },
  {
   "cell_type": "code",
   "execution_count": 3,
   "metadata": {},
   "outputs": [],
   "source": [
    "import numpy as np\n",
    "import joblib\n",
    "import pandas as pd"
   ]
  },
  {
   "cell_type": "code",
   "execution_count": 5,
   "metadata": {},
   "outputs": [
    {
     "name": "stdout",
     "output_type": "stream",
     "text": [
      "Model loaded successfully.\n"
     ]
    }
   ],
   "source": [
    "FEATURES = ['dayofyear', 'hour', 'dayofweek', 'quarter', 'month', 'year']\n",
    "\n",
    "# Load the model\n",
    "model_file = './model.joblib'\n",
    "energy_model = joblib.load(model_file)\n",
    "print(\"Model loaded successfully.\")"
   ]
  },
  {
   "cell_type": "code",
   "execution_count": 6,
   "metadata": {},
   "outputs": [],
   "source": [
    "def predict_for_datetime(dt,FEATURES,model):\n",
    "    \"\"\"Predict energy for a specific datetime.\"\"\"\n",
    "    # Create a DataFrame for the specific datetime\n",
    "    df = pd.DataFrame(index=[pd.to_datetime(dt)])\n",
    "\n",
    "    # Create time-based features for the DataFrame\n",
    "    df['hour'] = df.index.hour\n",
    "    df['dayofweek'] = df.index.dayofweek\n",
    "    df['quarter'] = df.index.quarter\n",
    "    df['month'] = df.index.month\n",
    "    df['year'] = df.index.year\n",
    "    df['dayofyear'] = df.index.dayofyear\n",
    "\n",
    "    # Predict using the trained model\n",
    "    prediction = model.predict(df[FEATURES])\n",
    "    return prediction[0]  # Return the prediction value"
   ]
  },
  {
   "cell_type": "code",
   "execution_count": 20,
   "metadata": {},
   "outputs": [],
   "source": [
    "def predict(dt):\n",
    "    \"\"\"Predict energy for a specific datetime.\"\"\"\n",
    "    return predict_for_datetime(dt, FEATURES, energy_model)"
   ]
  },
  {
   "cell_type": "code",
   "execution_count": 19,
   "metadata": {},
   "outputs": [
    {
     "data": {
      "text/plain": [
       "2066.341006999996"
      ]
     },
     "execution_count": 19,
     "metadata": {},
     "output_type": "execute_result"
    }
   ],
   "source": [
    "predict_for_datetime('2021-01-01 00:00:00', FEATURES, energy_model)"
   ]
  },
  {
   "cell_type": "code",
   "execution_count": 21,
   "metadata": {},
   "outputs": [
    {
     "data": {
      "text/plain": [
       "2066.341006999996"
      ]
     },
     "execution_count": 21,
     "metadata": {},
     "output_type": "execute_result"
    }
   ],
   "source": [
    "predict('2021-01-01 00:00:00')"
   ]
  },
  {
   "cell_type": "code",
   "execution_count": 22,
   "metadata": {},
   "outputs": [
    {
     "data": {
      "text/html": [
       "\n",
       "  <div style=\"margin: 0; padding: 5px; line-height: 1.75; font-size: 14px; vertical-align: baseline; list-style: none; font-family: Roboto, Arial, sans-serif; background: none;\">\n",
       "    <div style=\"margin: 0; padding: 0; line-height: 1.75; font-size: 14px; vertical-align: baseline; list-style: none; font-family: Roboto, Arial, sans-serif; background: none; font-weight: bold; color: #845B99;\">Please upgrade Modelbit</div>\n",
       "    <div style=\"margin: 0; padding: 0; line-height: 1.75; font-size: 14px; vertical-align: baseline; list-style: none; font-family: Roboto, Arial, sans-serif; background: none;\">Your Modelbit package appears out of date.</div>\n",
       "    <div style=\"margin: 0; padding: 0; line-height: 1.75; font-size: 14px; vertical-align: baseline; list-style: none; font-family: Roboto, Arial, sans-serif; background: none;\">\n",
       "      Please run <span style=\"margin: 0; padding: 3px; line-height: 1.75; font-size: 13px; vertical-align: baseline; list-style: none; font-family: monospace; background: none; font-weight: 400; background-color: rgba(209, 213, 219, 0.2);\">pip install --upgrade modelbit</span> to upgrade to the latest version.\n",
       "      (Installed: <span style=\"margin: 0; padding: 3px; line-height: 1.75; font-size: 13px; vertical-align: baseline; list-style: none; font-family: monospace; background: none; font-weight: 400; background-color: rgba(209, 213, 219, 0.2);\">0.41.17</span>.\n",
       "      Latest: <span style=\"margin: 0; padding: 3px; line-height: 1.75; font-size: 13px; vertical-align: baseline; list-style: none; font-family: monospace; background: none; font-weight: 400; background-color: rgba(209, 213, 219, 0.2);\">0.41.18</span>.)\n",
       "    </div>\n",
       "  </div>\n"
      ],
      "text/plain": [
       "<IPython.core.display.HTML object>"
      ]
     },
     "metadata": {},
     "output_type": "display_data"
    },
    {
     "data": {
      "text/html": [
       "<div style=\"margin: 0; padding: 5px; line-height: 1.75; font-size: 14px; vertical-align: baseline; list-style: none; font-family: Roboto, Arial, sans-serif; background: none;\">\n",
       "  <div>\n",
       "    <span style=\"margin: 0; padding: 0; line-height: 1.75; font-size: 14px; vertical-align: baseline; list-style: none; font-family: Roboto, Arial, sans-serif; background: none; font-weight: bold; color: #15803d;\">Deploying </span> <span style=\"margin: 0; padding: 3px; line-height: 1.75; font-size: 13px; vertical-align: baseline; list-style: none; font-family: monospace; background: none; font-weight: 400; background-color: rgba(209, 213, 219, 0.2);\">predict</span>\n",
       "  </div>\n",
       "  \n",
       "\n",
       "  <div style=\"margin: 0; padding: 0; line-height: 1.75; font-size: 14px; vertical-align: baseline; list-style: none; font-family: Roboto, Arial, sans-serif; background: none;\">Uploading dependencies...</div>\n",
       "</div>"
      ],
      "text/plain": [
       "<IPython.core.display.HTML object>"
      ]
     },
     "metadata": {},
     "output_type": "display_data"
    },
    {
     "name": "stdout",
     "output_type": "stream",
     "text": [
      "\u001b[1;32mEncrypting\u001b[0m 'energy_model': 100%|██████████| 347M/347M [00:03<00:00, 91.3MB/s] \n",
      "\u001b[1;33mUploading\u001b[0m 'energy_model': 100%|██████████| 95.2M/95.2M [01:07<00:00, 1.49MB/s]\n"
     ]
    },
    {
     "data": {
      "text/html": [
       "<div style=\"margin: 0; padding: 5px; line-height: 1.75; font-size: 14px; vertical-align: baseline; list-style: none; font-family: Roboto, Arial, sans-serif; background: none;\">\n",
       "  <div style=\"margin: 0; padding: 0; line-height: 1.75; font-size: 14px; vertical-align: baseline; list-style: none; font-family: Roboto, Arial, sans-serif; background: none; font-weight: bold; color: #15803d;\">Success!</div>\n",
       "  \n",
       "    <div style=\"margin: 0; padding: 0; line-height: 1.75; font-size: 14px; vertical-align: baseline; list-style: none; font-family: Roboto, Arial, sans-serif; background: none;\">\n",
       "      Deployment <span style=\"margin: 0; padding: 3px; line-height: 1.75; font-size: 13px; vertical-align: baseline; list-style: none; font-family: monospace; background: none; font-weight: 400; background-color: rgba(209, 213, 219, 0.2);\">predict</span>\n",
       "      will be ready in  a few minutes.\n",
       "    </div>\n",
       "  \n",
       "\n",
       "  <a href=\"https://us-east-2.aws.modelbit.com/w/tanishpathania/main/deployments/predict/apis\" target=\"_blank\" style=\"display: inline-block; margin-top: 12px;\" >\n",
       "    <div\n",
       "      style=\"display: inline-block; background-color: #845B99; border-radius: 0.375rem; color: white; cursor: pointer; font-size: 14px; font-weight: 700; padding: 8px 16px;\"\n",
       "      onmouseenter=\"this.style.background='#714488'\"\n",
       "      onmouseleave=\"this.style.background='#845B99'\"\n",
       "    >\n",
       "      View in Modelbit\n",
       "    </div>\n",
       "  </a>\n",
       "</div>"
      ],
      "text/plain": [
       "<IPython.core.display.HTML object>"
      ]
     },
     "metadata": {},
     "output_type": "display_data"
    }
   ],
   "source": [
    "mb.deploy(predict)"
   ]
  },
  {
   "cell_type": "code",
   "execution_count": null,
   "metadata": {},
   "outputs": [],
   "source": []
  }
 ],
 "metadata": {
  "kernelspec": {
   "display_name": "Python 3",
   "language": "python",
   "name": "python3"
  },
  "language_info": {
   "codemirror_mode": {
    "name": "ipython",
    "version": 3
   },
   "file_extension": ".py",
   "mimetype": "text/x-python",
   "name": "python",
   "nbconvert_exporter": "python",
   "pygments_lexer": "ipython3",
   "version": "3.12.7"
  }
 },
 "nbformat": 4,
 "nbformat_minor": 2
}
