{
 "cells": [
  {
   "cell_type": "code",
   "execution_count": 17,
   "metadata": {},
   "outputs": [],
   "source": [
    "import pandas as pd\n",
    "import numpy as np\n",
    "import matplotlib.pyplot as plt\n",
    "import seaborn as sns\n",
    "from sklearn.ensemble import RandomForestRegressor\n",
    "from sklearn.linear_model import LinearRegression\n",
    "from sklearn.metrics import mean_squared_error\n",
    "import warnings\n",
    "\n",
    "warnings.filterwarnings('ignore')\n"
   ]
  },
  {
   "cell_type": "code",
   "execution_count": 18,
   "metadata": {},
   "outputs": [],
   "source": [
    "\n",
    "\n",
    "class EnergyPredictionModel:\n",
    "    def __init__(self, file_path, x_values=5):\n",
    "        self.file_path = file_path\n",
    "        self.x_values = x_values\n",
    "        self.data = None\n",
    "        self.train_data = None\n",
    "        self.test_data = None\n",
    "        self.model = None\n",
    "        self.FEATURES = ['dayofyear', 'hour', 'dayofweek', 'quarter', 'month', 'year']\n",
    "        self.TARGET = 'energy'\n",
    "\n",
    "    def load_and_preprocess_data(self):\n",
    "        \"\"\"Load the dataset and preprocess it.\"\"\"\n",
    "        self.data = pd.read_csv(self.file_path)\n",
    "        self.data['datetime'] = pd.to_datetime(self.data['datetime'])\n",
    "        self.data = self.data.set_index('datetime')\n",
    "\n",
    "        # Handle NaN values\n",
    "        self.data['energy'] = self.check_nan_and_replace_with_avg(self.data['energy'])\n",
    "\n",
    "        # Split the data into training and testing sets\n",
    "        self.split_ratio = 0.8\n",
    "        self.split_date_index = int(len(self.data) * self.split_ratio)\n",
    "        self.split_date = self.data.index[self.split_date_index]\n",
    "\n",
    "        print(\"NaN values handled. Data loaded successfully.\")\n",
    "\n",
    "    def check_nan_and_replace_with_avg(self, series):\n",
    "        \"\"\"Replace NaN values in a Series with the average of the last x valid values.\"\"\"\n",
    "        series = series.copy()\n",
    "        for i in range(len(series)):\n",
    "            if np.isnan(series.iloc[i]):\n",
    "                valid_values = [series.iloc[i - j] for j in range(1, self.x_values + 1) if i - j >= 0 and not np.isnan(series.iloc[i - j])]\n",
    "                if valid_values:\n",
    "                    series.iloc[i] = np.mean(valid_values)\n",
    "        return series\n",
    "\n",
    "    def create_features(self, df):\n",
    "        \"\"\"Create time-based and lag features from the DataFrame.\"\"\"\n",
    "        df = df.copy()\n",
    "        df['hour'] = df.index.hour\n",
    "        df['dayofweek'] = df.index.dayofweek\n",
    "        df['quarter'] = df.index.quarter\n",
    "        df['month'] = df.index.month\n",
    "        df['year'] = df.index.year\n",
    "        df['dayofyear'] = df.index.dayofyear\n",
    "\n",
    "        return df.dropna()  # Drop NaN values created by shifting\n",
    "\n",
    "    def split_data(self):\n",
    "        \"\"\"Split the dataset into training and testing sets.\"\"\"\n",
    "        self.train_data = self.data.loc[self.data.index < self.split_date]\n",
    "        self.test_data = self.data.loc[self.data.index >= self.split_date]\n",
    "\n",
    "        # Create features for the training and testing data\n",
    "        self.train_data = self.create_features(self.train_data)\n",
    "        self.test_data = self.create_features(self.test_data)\n",
    "        print(\"Data split into train and test sets.\")\n",
    "\n",
    "    def train_model(self):\n",
    "        \"\"\"Train the RandomForestRegressor model.\"\"\"\n",
    "        X_train = self.train_data[self.FEATURES]\n",
    "        y_train = self.train_data[self.TARGET]\n",
    "\n",
    "        self.model = RandomForestRegressor(n_estimators=200, max_depth=15, random_state=42)\n",
    "\n",
    "        self.model.fit(X_train, y_train)\n",
    "        print(\"Model trained.\")\n",
    "\n",
    "    def calculate_trend_value(self, dt):\n",
    "        \"\"\"Calculate the trend value based on historical data up to the specified datetime.\"\"\"\n",
    "        historical_data = self.train_data[self.train_data.index <= pd.to_datetime(dt)]\n",
    "\n",
    "        # Ensure you have enough data points\n",
    "        if len(historical_data) < 2:\n",
    "            return 0.0  # Not enough data to calculate a trend\n",
    "\n",
    "        # Prepare data for linear regression\n",
    "        X = np.arange(len(historical_data)).reshape(-1, 1)  # Time as a feature\n",
    "        y = historical_data['energy'].values  # Historical energy values\n",
    "\n",
    "        # Fit linear regression model\n",
    "        model = LinearRegression()\n",
    "        model.fit(X, y)\n",
    "\n",
    "        # The slope of the line (the coefficient) represents the trend\n",
    "        trend_value = model.coef_[0]\n",
    "        return trend_value\n",
    "\n",
    "    def predict_for_datetime(self, dt):\n",
    "        # Calculate the trend value based on historical data up to the specified datetime\n",
    "        self.trend_value = self.calculate_trend_value(dt)\n",
    "\n",
    "        # Create an empty DataFrame for the specific datetime\n",
    "        df = pd.DataFrame(index=[pd.to_datetime(dt)])\n",
    "\n",
    "        # Create time-based features for the DataFrame\n",
    "        df['hour'] = df.index.hour\n",
    "        df['dayofweek'] = df.index.dayofweek\n",
    "        df['quarter'] = df.index.quarter\n",
    "        df['month'] = df.index.month\n",
    "        df['year'] = df.index.year\n",
    "        df['dayofyear'] = df.index.dayofyear\n",
    "\n",
    "        # Predict using the trained model\n",
    "        prediction = self.model.predict(df[self.FEATURES])\n",
    "\n",
    "        # Add the calculated and scaled trend value to the prediction\n",
    "        final_prediction = prediction[0] + (self.trend_value)\n",
    "\n",
    "        print(f\"Predicted energy for {dt} with trend: {final_prediction}\")\n",
    "        return final_prediction\n",
    "\n",
    "\n",
    "    def calculate_error_percentage(self, y_true, y_pred):\n",
    "        \"\"\"Calculate the mean error percentage between true and predicted values.\"\"\"\n",
    "        error_percentage = np.abs(y_true - y_pred) / y_true * 100\n",
    "        mean_error_percentage = np.mean(error_percentage)\n",
    "        print(f\"Mean Error Percentage: {mean_error_percentage:.2f}%\")\n",
    "        return mean_error_percentage\n",
    "\n",
    "    def calculate_accuracy(self, y_true, y_pred):\n",
    "        \"\"\"Calculate the accuracy of the model based on predictions.\"\"\"\n",
    "        error_percentage = self.calculate_error_percentage(y_true, y_pred)\n",
    "        accuracy = 100 - error_percentage\n",
    "        print(f\"Model Accuracy: {accuracy:.2f}%\")\n",
    "        return accuracy\n",
    "\n",
    "    def calculate_mean(self, values):\n",
    "        \"\"\"Calculate and return the mean of the given values.\"\"\"\n",
    "        mean_value = np.mean(values)\n",
    "        print(f\"Mean: {mean_value:.2f}\")\n",
    "        return mean_value\n",
    "\n",
    "    def calculate_std(self, values):\n",
    "        \"\"\"Calculate and return the standard deviation of the given values.\"\"\"\n",
    "        std_value = np.std(values)\n",
    "        print(f\"Standard Deviation: {std_value:.2f}\")\n",
    "        return std_value\n",
    "\n",
    "\n"
   ]
  },
  {
   "cell_type": "code",
   "execution_count": 19,
   "metadata": {},
   "outputs": [
    {
     "name": "stdout",
     "output_type": "stream",
     "text": [
      "NaN values handled. Data loaded successfully.\n",
      "Data split into train and test sets.\n",
      "Model trained.\n"
     ]
    }
   ],
   "source": [
    "\n",
    "file_path = './processed_train_data.csv'  # Specify your CSV file path\n",
    "energy_model = EnergyPredictionModel(file_path)\n",
    "energy_model.load_and_preprocess_data()\n",
    "energy_model.split_data()\n",
    "energy_model.train_model()\n",
    "\n"
   ]
  },
  {
   "cell_type": "code",
   "execution_count": 20,
   "metadata": {},
   "outputs": [
    {
     "name": "stdout",
     "output_type": "stream",
     "text": [
      "Predicted energy for 2018-03-01 12:00:00 with trend: 1833.8987580967564\n",
      "Energy prediction for 2018-03-01 12:00:00: 1833.8987580967564\n"
     ]
    }
   ],
   "source": [
    "# Example prediction\n",
    "prediction_datetime = '2018-03-01 12:00:00'\n",
    "prediction = energy_model.predict_for_datetime(prediction_datetime)\n",
    "print(f\"Energy prediction for {prediction_datetime}: {prediction}\")"
   ]
  },
  {
   "cell_type": "code",
   "execution_count": 21,
   "metadata": {},
   "outputs": [
    {
     "name": "stdout",
     "output_type": "stream",
     "text": [
      "Mean: 2002.08\n",
      "Standard Deviation: 349.63\n",
      "Mean: 1928.81\n",
      "Standard Deviation: 290.11\n",
      "Mean Error Percentage: 8.30%\n",
      "Mean Error Percentage: 8.30%\n",
      "Model Accuracy: 91.70%\n"
     ]
    },
    {
     "data": {
      "text/plain": [
       "91.69806471747057"
      ]
     },
     "execution_count": 21,
     "metadata": {},
     "output_type": "execute_result"
    }
   ],
   "source": [
    "# Make predictions on the test set\n",
    "X_test = energy_model.test_data[energy_model.FEATURES]\n",
    "y_test = energy_model.test_data[energy_model.TARGET]\n",
    "\n",
    "# Generate predictions\n",
    "y_pred = energy_model.model.predict(X_test)\n",
    "# Calculate mean and standard deviation of actual and predicted values\n",
    "mean_actual = energy_model.calculate_mean(y_test)\n",
    "std_actual = energy_model.calculate_std(y_test)\n",
    "mean_predicted = energy_model.calculate_mean(y_pred)\n",
    "std_predicted = energy_model.calculate_std(y_pred)\n",
    "\n",
    "# Calculate and print error percentage and accuracy\n",
    "energy_model.calculate_error_percentage(y_test, y_pred)\n",
    "energy_model.calculate_accuracy(y_test, y_pred)"
   ]
  },
  {
   "cell_type": "code",
   "execution_count": 22,
   "metadata": {},
   "outputs": [
    {
     "name": "stdout",
     "output_type": "stream",
     "text": [
      "Model saved as energy_prediction_model.joblib\n",
      "Model saved as energy_prediction_model.pkl\n"
     ]
    }
   ],
   "source": [
    "# After training the model, save it to a file using joblib\n",
    "import joblib\n",
    "\n",
    "# Save the trained model as a joblib file\n",
    "model_filename = 'energy_prediction_model.joblib'\n",
    "joblib.dump(energy_model.model, model_filename)\n",
    "print(f\"Model saved as {model_filename}\")\n",
    "\n",
    "import pickle\n",
    "\n",
    "model_filename = 'energy_prediction_model.pkl'\n",
    "pickle.dump(energy_model.model, open(model_filename, 'wb'))\n",
    "\n",
    "print(f\"Model saved as {model_filename}\")"
   ]
  },
  {
   "cell_type": "code",
   "execution_count": null,
   "metadata": {},
   "outputs": [],
   "source": []
  },
  {
   "cell_type": "code",
   "execution_count": null,
   "metadata": {},
   "outputs": [],
   "source": []
  }
 ],
 "metadata": {
  "kernelspec": {
   "display_name": "Python 3",
   "language": "python",
   "name": "python3"
  },
  "language_info": {
   "codemirror_mode": {
    "name": "ipython",
    "version": 3
   },
   "file_extension": ".py",
   "mimetype": "text/x-python",
   "name": "python",
   "nbconvert_exporter": "python",
   "pygments_lexer": "ipython3",
   "version": "3.12.7"
  }
 },
 "nbformat": 4,
 "nbformat_minor": 2
}
